{
 "cells": [
  {
   "cell_type": "code",
   "execution_count": 1,
   "id": "3f473a5c",
   "metadata": {},
   "outputs": [],
   "source": [
    "from typing import Sequence, Dict\n",
    "from collections import defaultdict, Counter\n",
    "import random\n",
    "import math\n",
    "import numpy as np\n",
    "import pandas as pd\n",
    "from scipy import stats\n",
    "\n",
    "from matplotlib import pyplot as plt\n",
    "from matplotlib.ticker import FuncFormatter\n",
    "from matplotlib.patches import Rectangle\n",
    "from matplotlib.collections import PatchCollection\n",
    "from sklearn.linear_model import LogisticRegression\n",
    "\n",
    "from abc import ABC, abstractmethod\n",
    "from IPython import display\n",
    "import krippendorff\n",
    "import seaborn as sns\n",
    "import numpy as np\n",
    "from sklearn.metrics import confusion_matrix"
   ]
  },
  {
   "cell_type": "code",
   "execution_count": 2,
   "id": "cac2ed87",
   "metadata": {},
   "outputs": [],
   "source": [
    "from util import DataHandler"
   ]
  },
  {
   "cell_type": "code",
   "execution_count": 3,
   "id": "604cbf8c",
   "metadata": {},
   "outputs": [],
   "source": [
    "def get_bin_idx(score, size=10):\n",
    "    return min(int(score * size), size-1)"
   ]
  },
  {
   "cell_type": "code",
   "execution_count": 4,
   "id": "5f09e049",
   "metadata": {},
   "outputs": [],
   "source": [
    "_SQRT2 = np.sqrt(2)\n",
    "\n",
    "def hellinger(p, q):\n",
    "    return np.sqrt(np.sum((np.sqrt(p) - np.sqrt(q)) ** 2)) / _SQRT2"
   ]
  },
  {
   "cell_type": "code",
   "execution_count": 5,
   "id": "8920d8bb",
   "metadata": {},
   "outputs": [],
   "source": [
    "dark_gray_color = '#666666'\n",
    "positive_color = '#3d85c6'\n",
    "negative_color = '#cc0000'"
   ]
  },
  {
   "cell_type": "markdown",
   "id": "6100555f",
   "metadata": {},
   "source": [
    "# Load dataset"
   ]
  },
  {
   "cell_type": "markdown",
   "id": "3f3c2225",
   "metadata": {},
   "source": [
    "## dataset1"
   ]
  },
  {
   "cell_type": "code",
   "execution_count": 9,
   "id": "ca87804b",
   "metadata": {},
   "outputs": [],
   "source": [
    "base_dh = DataHandler('data/dataset1_base.csv')\n",
    "target_dh = DataHandler('data/dataset1_target.csv')"
   ]
  },
  {
   "cell_type": "code",
   "execution_count": 10,
   "id": "1daceb1a",
   "metadata": {},
   "outputs": [
    {
     "data": {
      "text/plain": [
       "0.2"
      ]
     },
     "execution_count": 10,
     "metadata": {},
     "output_type": "execute_result"
    }
   ],
   "source": [
    "base_dh._p_gt"
   ]
  },
  {
   "cell_type": "code",
   "execution_count": 11,
   "id": "60cfd6bb",
   "metadata": {},
   "outputs": [
    {
     "data": {
      "text/plain": [
       "0.7"
      ]
     },
     "execution_count": 11,
     "metadata": {},
     "output_type": "execute_result"
    }
   ],
   "source": [
    "target_dh._p_gt"
   ]
  },
  {
   "cell_type": "code",
   "execution_count": 12,
   "id": "b49a5982",
   "metadata": {},
   "outputs": [
    {
     "data": {
      "text/html": [
       "<div>\n",
       "<style scoped>\n",
       "    .dataframe tbody tr th:only-of-type {\n",
       "        vertical-align: middle;\n",
       "    }\n",
       "\n",
       "    .dataframe tbody tr th {\n",
       "        vertical-align: top;\n",
       "    }\n",
       "\n",
       "    .dataframe thead th {\n",
       "        text-align: right;\n",
       "    }\n",
       "</style>\n",
       "<table border=\"1\" class=\"dataframe\">\n",
       "  <thead>\n",
       "    <tr style=\"text-align: right;\">\n",
       "      <th></th>\n",
       "      <th>UC(X)</th>\n",
       "      <th>GT</th>\n",
       "    </tr>\n",
       "  </thead>\n",
       "  <tbody>\n",
       "    <tr>\n",
       "      <th>0</th>\n",
       "      <td>0.250562</td>\n",
       "      <td></td>\n",
       "    </tr>\n",
       "    <tr>\n",
       "      <th>1</th>\n",
       "      <td>0.168657</td>\n",
       "      <td></td>\n",
       "    </tr>\n",
       "    <tr>\n",
       "      <th>2</th>\n",
       "      <td>0.128618</td>\n",
       "      <td></td>\n",
       "    </tr>\n",
       "    <tr>\n",
       "      <th>3</th>\n",
       "      <td>0.836515</td>\n",
       "      <td></td>\n",
       "    </tr>\n",
       "    <tr>\n",
       "      <th>4</th>\n",
       "      <td>0.703954</td>\n",
       "      <td></td>\n",
       "    </tr>\n",
       "    <tr>\n",
       "      <th>...</th>\n",
       "      <td>...</td>\n",
       "      <td>...</td>\n",
       "    </tr>\n",
       "    <tr>\n",
       "      <th>995</th>\n",
       "      <td>0.709914</td>\n",
       "      <td></td>\n",
       "    </tr>\n",
       "    <tr>\n",
       "      <th>996</th>\n",
       "      <td>0.321230</td>\n",
       "      <td></td>\n",
       "    </tr>\n",
       "    <tr>\n",
       "      <th>997</th>\n",
       "      <td>0.252091</td>\n",
       "      <td></td>\n",
       "    </tr>\n",
       "    <tr>\n",
       "      <th>998</th>\n",
       "      <td>0.250613</td>\n",
       "      <td></td>\n",
       "    </tr>\n",
       "    <tr>\n",
       "      <th>999</th>\n",
       "      <td>0.194596</td>\n",
       "      <td></td>\n",
       "    </tr>\n",
       "  </tbody>\n",
       "</table>\n",
       "<p>1000 rows × 2 columns</p>\n",
       "</div>"
      ],
      "text/plain": [
       "        UC(X) GT\n",
       "0    0.250562   \n",
       "1    0.168657   \n",
       "2    0.128618   \n",
       "3    0.836515   \n",
       "4    0.703954   \n",
       "..        ... ..\n",
       "995  0.709914   \n",
       "996  0.321230   \n",
       "997  0.252091   \n",
       "998  0.250613   \n",
       "999  0.194596   \n",
       "\n",
       "[1000 rows x 2 columns]"
      ]
     },
     "execution_count": 12,
     "metadata": {},
     "output_type": "execute_result"
    }
   ],
   "source": [
    "base_dh.observed_df"
   ]
  },
  {
   "cell_type": "code",
   "execution_count": 13,
   "id": "72171ae9",
   "metadata": {},
   "outputs": [
    {
     "data": {
      "text/plain": [
       "0"
      ]
     },
     "execution_count": 13,
     "metadata": {},
     "output_type": "execute_result"
    }
   ],
   "source": [
    "base_dh.count_gt()"
   ]
  },
  {
   "cell_type": "code",
   "execution_count": 14,
   "id": "175892b1",
   "metadata": {},
   "outputs": [],
   "source": [
    "base_dh.get_oracle_labels(rows=[0,1,2])"
   ]
  },
  {
   "cell_type": "code",
   "execution_count": 15,
   "id": "9d78972a",
   "metadata": {},
   "outputs": [
    {
     "data": {
      "text/html": [
       "<div>\n",
       "<style scoped>\n",
       "    .dataframe tbody tr th:only-of-type {\n",
       "        vertical-align: middle;\n",
       "    }\n",
       "\n",
       "    .dataframe tbody tr th {\n",
       "        vertical-align: top;\n",
       "    }\n",
       "\n",
       "    .dataframe thead th {\n",
       "        text-align: right;\n",
       "    }\n",
       "</style>\n",
       "<table border=\"1\" class=\"dataframe\">\n",
       "  <thead>\n",
       "    <tr style=\"text-align: right;\">\n",
       "      <th></th>\n",
       "      <th>UC(X)</th>\n",
       "      <th>GT</th>\n",
       "    </tr>\n",
       "  </thead>\n",
       "  <tbody>\n",
       "    <tr>\n",
       "      <th>0</th>\n",
       "      <td>0.250562</td>\n",
       "      <td>False</td>\n",
       "    </tr>\n",
       "    <tr>\n",
       "      <th>1</th>\n",
       "      <td>0.168657</td>\n",
       "      <td>False</td>\n",
       "    </tr>\n",
       "    <tr>\n",
       "      <th>2</th>\n",
       "      <td>0.128618</td>\n",
       "      <td>False</td>\n",
       "    </tr>\n",
       "    <tr>\n",
       "      <th>3</th>\n",
       "      <td>0.836515</td>\n",
       "      <td></td>\n",
       "    </tr>\n",
       "    <tr>\n",
       "      <th>4</th>\n",
       "      <td>0.703954</td>\n",
       "      <td></td>\n",
       "    </tr>\n",
       "    <tr>\n",
       "      <th>...</th>\n",
       "      <td>...</td>\n",
       "      <td>...</td>\n",
       "    </tr>\n",
       "    <tr>\n",
       "      <th>995</th>\n",
       "      <td>0.709914</td>\n",
       "      <td></td>\n",
       "    </tr>\n",
       "    <tr>\n",
       "      <th>996</th>\n",
       "      <td>0.321230</td>\n",
       "      <td></td>\n",
       "    </tr>\n",
       "    <tr>\n",
       "      <th>997</th>\n",
       "      <td>0.252091</td>\n",
       "      <td></td>\n",
       "    </tr>\n",
       "    <tr>\n",
       "      <th>998</th>\n",
       "      <td>0.250613</td>\n",
       "      <td></td>\n",
       "    </tr>\n",
       "    <tr>\n",
       "      <th>999</th>\n",
       "      <td>0.194596</td>\n",
       "      <td></td>\n",
       "    </tr>\n",
       "  </tbody>\n",
       "</table>\n",
       "<p>1000 rows × 2 columns</p>\n",
       "</div>"
      ],
      "text/plain": [
       "        UC(X)     GT\n",
       "0    0.250562  False\n",
       "1    0.168657  False\n",
       "2    0.128618  False\n",
       "3    0.836515       \n",
       "4    0.703954       \n",
       "..        ...    ...\n",
       "995  0.709914       \n",
       "996  0.321230       \n",
       "997  0.252091       \n",
       "998  0.250613       \n",
       "999  0.194596       \n",
       "\n",
       "[1000 rows x 2 columns]"
      ]
     },
     "execution_count": 15,
     "metadata": {},
     "output_type": "execute_result"
    }
   ],
   "source": [
    "base_dh.observed_df"
   ]
  },
  {
   "cell_type": "code",
   "execution_count": 16,
   "id": "fdd42232",
   "metadata": {},
   "outputs": [
    {
     "data": {
      "text/plain": [
       "3"
      ]
     },
     "execution_count": 16,
     "metadata": {},
     "output_type": "execute_result"
    }
   ],
   "source": [
    "base_dh.count_gt()"
   ]
  },
  {
   "cell_type": "code",
   "execution_count": 17,
   "id": "3d9b639d",
   "metadata": {},
   "outputs": [],
   "source": [
    "sampeld_rows = base_dh.get_sample_for_labeling(n_item=100, strategy='random')"
   ]
  },
  {
   "cell_type": "code",
   "execution_count": 18,
   "id": "bbe9000e",
   "metadata": {},
   "outputs": [],
   "source": [
    "base_dh.get_oracle_labels(rows=sampeld_rows)"
   ]
  },
  {
   "cell_type": "code",
   "execution_count": 19,
   "id": "8fc10a60",
   "metadata": {},
   "outputs": [
    {
     "data": {
      "text/plain": [
       "103"
      ]
     },
     "execution_count": 19,
     "metadata": {},
     "output_type": "execute_result"
    }
   ],
   "source": [
    "base_dh.count_gt()"
   ]
  },
  {
   "cell_type": "code",
   "execution_count": 20,
   "id": "ca4656f7",
   "metadata": {},
   "outputs": [
    {
     "data": {
      "text/html": [
       "<div>\n",
       "<style scoped>\n",
       "    .dataframe tbody tr th:only-of-type {\n",
       "        vertical-align: middle;\n",
       "    }\n",
       "\n",
       "    .dataframe tbody tr th {\n",
       "        vertical-align: top;\n",
       "    }\n",
       "\n",
       "    .dataframe thead th {\n",
       "        text-align: right;\n",
       "    }\n",
       "</style>\n",
       "<table border=\"1\" class=\"dataframe\">\n",
       "  <thead>\n",
       "    <tr style=\"text-align: right;\">\n",
       "      <th></th>\n",
       "      <th>UC(X)</th>\n",
       "      <th>GT</th>\n",
       "    </tr>\n",
       "  </thead>\n",
       "  <tbody>\n",
       "    <tr>\n",
       "      <th>0</th>\n",
       "      <td>0.250562</td>\n",
       "      <td>False</td>\n",
       "    </tr>\n",
       "    <tr>\n",
       "      <th>1</th>\n",
       "      <td>0.168657</td>\n",
       "      <td>False</td>\n",
       "    </tr>\n",
       "    <tr>\n",
       "      <th>2</th>\n",
       "      <td>0.128618</td>\n",
       "      <td>False</td>\n",
       "    </tr>\n",
       "    <tr>\n",
       "      <th>3</th>\n",
       "      <td>0.836515</td>\n",
       "      <td></td>\n",
       "    </tr>\n",
       "    <tr>\n",
       "      <th>4</th>\n",
       "      <td>0.703954</td>\n",
       "      <td></td>\n",
       "    </tr>\n",
       "    <tr>\n",
       "      <th>...</th>\n",
       "      <td>...</td>\n",
       "      <td>...</td>\n",
       "    </tr>\n",
       "    <tr>\n",
       "      <th>995</th>\n",
       "      <td>0.709914</td>\n",
       "      <td></td>\n",
       "    </tr>\n",
       "    <tr>\n",
       "      <th>996</th>\n",
       "      <td>0.321230</td>\n",
       "      <td></td>\n",
       "    </tr>\n",
       "    <tr>\n",
       "      <th>997</th>\n",
       "      <td>0.252091</td>\n",
       "      <td></td>\n",
       "    </tr>\n",
       "    <tr>\n",
       "      <th>998</th>\n",
       "      <td>0.250613</td>\n",
       "      <td></td>\n",
       "    </tr>\n",
       "    <tr>\n",
       "      <th>999</th>\n",
       "      <td>0.194596</td>\n",
       "      <td>False</td>\n",
       "    </tr>\n",
       "  </tbody>\n",
       "</table>\n",
       "<p>1000 rows × 2 columns</p>\n",
       "</div>"
      ],
      "text/plain": [
       "        UC(X)     GT\n",
       "0    0.250562  False\n",
       "1    0.168657  False\n",
       "2    0.128618  False\n",
       "3    0.836515       \n",
       "4    0.703954       \n",
       "..        ...    ...\n",
       "995  0.709914       \n",
       "996  0.321230       \n",
       "997  0.252091       \n",
       "998  0.250613       \n",
       "999  0.194596  False\n",
       "\n",
       "[1000 rows x 2 columns]"
      ]
     },
     "execution_count": 20,
     "metadata": {},
     "output_type": "execute_result"
    }
   ],
   "source": [
    "base_dh.observed_df"
   ]
  },
  {
   "cell_type": "code",
   "execution_count": 21,
   "id": "bf3bc8a8",
   "metadata": {},
   "outputs": [],
   "source": [
    "base_dh.load_features(features=['has_url', 'lang'])"
   ]
  },
  {
   "cell_type": "code",
   "execution_count": 22,
   "id": "b7ab0e20",
   "metadata": {},
   "outputs": [
    {
     "data": {
      "text/html": [
       "<div>\n",
       "<style scoped>\n",
       "    .dataframe tbody tr th:only-of-type {\n",
       "        vertical-align: middle;\n",
       "    }\n",
       "\n",
       "    .dataframe tbody tr th {\n",
       "        vertical-align: top;\n",
       "    }\n",
       "\n",
       "    .dataframe thead th {\n",
       "        text-align: right;\n",
       "    }\n",
       "</style>\n",
       "<table border=\"1\" class=\"dataframe\">\n",
       "  <thead>\n",
       "    <tr style=\"text-align: right;\">\n",
       "      <th></th>\n",
       "      <th>UC(X)</th>\n",
       "      <th>GT</th>\n",
       "      <th>has_url</th>\n",
       "      <th>lang</th>\n",
       "    </tr>\n",
       "  </thead>\n",
       "  <tbody>\n",
       "    <tr>\n",
       "      <th>0</th>\n",
       "      <td>0.250562</td>\n",
       "      <td>False</td>\n",
       "      <td>no</td>\n",
       "      <td>es</td>\n",
       "    </tr>\n",
       "    <tr>\n",
       "      <th>1</th>\n",
       "      <td>0.168657</td>\n",
       "      <td>False</td>\n",
       "      <td>yes</td>\n",
       "      <td>en</td>\n",
       "    </tr>\n",
       "    <tr>\n",
       "      <th>2</th>\n",
       "      <td>0.128618</td>\n",
       "      <td>False</td>\n",
       "      <td>yes</td>\n",
       "      <td>es</td>\n",
       "    </tr>\n",
       "    <tr>\n",
       "      <th>3</th>\n",
       "      <td>0.836515</td>\n",
       "      <td></td>\n",
       "      <td>yes</td>\n",
       "      <td>es</td>\n",
       "    </tr>\n",
       "    <tr>\n",
       "      <th>4</th>\n",
       "      <td>0.703954</td>\n",
       "      <td></td>\n",
       "      <td>yes</td>\n",
       "      <td>es</td>\n",
       "    </tr>\n",
       "    <tr>\n",
       "      <th>...</th>\n",
       "      <td>...</td>\n",
       "      <td>...</td>\n",
       "      <td>...</td>\n",
       "      <td>...</td>\n",
       "    </tr>\n",
       "    <tr>\n",
       "      <th>995</th>\n",
       "      <td>0.709914</td>\n",
       "      <td></td>\n",
       "      <td>no</td>\n",
       "      <td>es</td>\n",
       "    </tr>\n",
       "    <tr>\n",
       "      <th>996</th>\n",
       "      <td>0.321230</td>\n",
       "      <td></td>\n",
       "      <td>no</td>\n",
       "      <td>en</td>\n",
       "    </tr>\n",
       "    <tr>\n",
       "      <th>997</th>\n",
       "      <td>0.252091</td>\n",
       "      <td></td>\n",
       "      <td>no</td>\n",
       "      <td>es</td>\n",
       "    </tr>\n",
       "    <tr>\n",
       "      <th>998</th>\n",
       "      <td>0.250613</td>\n",
       "      <td></td>\n",
       "      <td>yes</td>\n",
       "      <td>en</td>\n",
       "    </tr>\n",
       "    <tr>\n",
       "      <th>999</th>\n",
       "      <td>0.194596</td>\n",
       "      <td>False</td>\n",
       "      <td>yes</td>\n",
       "      <td>es</td>\n",
       "    </tr>\n",
       "  </tbody>\n",
       "</table>\n",
       "<p>1000 rows × 4 columns</p>\n",
       "</div>"
      ],
      "text/plain": [
       "        UC(X)     GT has_url lang\n",
       "0    0.250562  False      no   es\n",
       "1    0.168657  False     yes   en\n",
       "2    0.128618  False     yes   es\n",
       "3    0.836515            yes   es\n",
       "4    0.703954            yes   es\n",
       "..        ...    ...     ...  ...\n",
       "995  0.709914             no   es\n",
       "996  0.321230             no   en\n",
       "997  0.252091             no   es\n",
       "998  0.250613            yes   en\n",
       "999  0.194596  False     yes   es\n",
       "\n",
       "[1000 rows x 4 columns]"
      ]
     },
     "execution_count": 22,
     "metadata": {},
     "output_type": "execute_result"
    }
   ],
   "source": [
    "base_dh.observed_df"
   ]
  },
  {
   "cell_type": "markdown",
   "id": "068864a1",
   "metadata": {},
   "source": [
    "# Let's first try some approaches\n",
    "\n",
    "Given: classifier scores UC(X)\n",
    "\n",
    "Target: P(GT=1)"
   ]
  },
  {
   "cell_type": "markdown",
   "id": "f3d45845",
   "metadata": {},
   "source": [
    "## 1. Classify and Count (threshold = 0.5)"
   ]
  },
  {
   "cell_type": "code",
   "execution_count": 23,
   "id": "174f1ca6",
   "metadata": {},
   "outputs": [
    {
     "data": {
      "text/plain": [
       "0.293"
      ]
     },
     "execution_count": 23,
     "metadata": {},
     "output_type": "execute_result"
    }
   ],
   "source": [
    "threshold = 0.5\n",
    "est_p_cc = base_dh.observed_df[base_dh.observed_df['UC(X)'] > threshold].shape[0] / base_dh.size\n",
    "est_p_cc"
   ]
  },
  {
   "cell_type": "code",
   "execution_count": 24,
   "id": "1ba9e8f9",
   "metadata": {},
   "outputs": [
    {
     "data": {
      "text/plain": [
       "0.2"
      ]
     },
     "execution_count": 24,
     "metadata": {},
     "output_type": "execute_result"
    }
   ],
   "source": [
    "base_dh._p_gt"
   ]
  },
  {
   "cell_type": "markdown",
   "id": "7d1e46b9",
   "metadata": {},
   "source": [
    "## 2. Probabilistic Estimator"
   ]
  },
  {
   "cell_type": "code",
   "execution_count": 25,
   "id": "d665e2dd",
   "metadata": {},
   "outputs": [
    {
     "data": {
      "text/plain": [
       "0.39674759162504375"
      ]
     },
     "execution_count": 25,
     "metadata": {},
     "output_type": "execute_result"
    }
   ],
   "source": [
    "est_p_pe = base_dh.observed_df['UC(X)'].sum() / base_dh.size\n",
    "est_p_pe"
   ]
  },
  {
   "cell_type": "code",
   "execution_count": 26,
   "id": "a77c4d0d",
   "metadata": {},
   "outputs": [
    {
     "data": {
      "text/plain": [
       "0.2"
      ]
     },
     "execution_count": 26,
     "metadata": {},
     "output_type": "execute_result"
    }
   ],
   "source": [
    "base_dh._p_gt"
   ]
  },
  {
   "cell_type": "markdown",
   "id": "ed306868",
   "metadata": {},
   "source": [
    "# 3. Now assume we have some budget to label some data"
   ]
  },
  {
   "cell_type": "code",
   "execution_count": 27,
   "id": "0e7b5c04",
   "metadata": {},
   "outputs": [
    {
     "data": {
      "text/plain": [
       "103"
      ]
     },
     "execution_count": 27,
     "metadata": {},
     "output_type": "execute_result"
    }
   ],
   "source": [
    "base_dh.count_gt()"
   ]
  },
  {
   "cell_type": "code",
   "execution_count": 28,
   "id": "cc5b286f",
   "metadata": {},
   "outputs": [
    {
     "data": {
      "text/plain": [
       "1000"
      ]
     },
     "execution_count": 28,
     "metadata": {},
     "output_type": "execute_result"
    }
   ],
   "source": [
    "base_dh.size"
   ]
  },
  {
   "cell_type": "code",
   "execution_count": 29,
   "id": "57f874e4",
   "metadata": {},
   "outputs": [],
   "source": [
    "# let's label 20% data\n",
    "num_sample = int(0.7 * base_dh.size)"
   ]
  },
  {
   "cell_type": "code",
   "execution_count": 30,
   "id": "19cb1e1f",
   "metadata": {},
   "outputs": [],
   "source": [
    "sampeld_rows = base_dh.get_sample_for_labeling(n_item=num_sample, strategy='random')"
   ]
  },
  {
   "cell_type": "code",
   "execution_count": 31,
   "id": "7839d1fa",
   "metadata": {},
   "outputs": [],
   "source": [
    "base_dh.get_oracle_labels(rows=sampeld_rows)"
   ]
  },
  {
   "cell_type": "code",
   "execution_count": 32,
   "id": "b4ba22b2",
   "metadata": {},
   "outputs": [
    {
     "data": {
      "text/plain": [
       "803"
      ]
     },
     "execution_count": 32,
     "metadata": {},
     "output_type": "execute_result"
    }
   ],
   "source": [
    "base_dh.count_gt()"
   ]
  },
  {
   "cell_type": "code",
   "execution_count": 33,
   "id": "27ed3757",
   "metadata": {},
   "outputs": [],
   "source": [
    "labeled_sample = base_dh.get_labeled_sample()"
   ]
  },
  {
   "cell_type": "code",
   "execution_count": 34,
   "id": "d3412ad4",
   "metadata": {},
   "outputs": [
    {
     "data": {
      "text/plain": [
       "(803, 4)"
      ]
     },
     "execution_count": 34,
     "metadata": {},
     "output_type": "execute_result"
    }
   ],
   "source": [
    "labeled_sample.shape"
   ]
  },
  {
   "cell_type": "code",
   "execution_count": 35,
   "id": "1dcf560a",
   "metadata": {},
   "outputs": [
    {
     "name": "stderr",
     "output_type": "stream",
     "text": [
      "/Users/siqiwu/Developments/env/anaconda3/envs/hot/lib/python3.10/site-packages/pandas/core/indexing.py:1773: SettingWithCopyWarning: \n",
      "A value is trying to be set on a copy of a slice from a DataFrame.\n",
      "Try using .loc[row_indexer,col_indexer] = value instead\n",
      "\n",
      "See the caveats in the documentation: https://pandas.pydata.org/pandas-docs/stable/user_guide/indexing.html#returning-a-view-versus-a-copy\n",
      "  self._setitem_single_column(ilocs[0], value, pi)\n"
     ]
    }
   ],
   "source": [
    "labeled_sample.loc[:, 'GT'] = labeled_sample['GT'].astype('bool')"
   ]
  },
  {
   "cell_type": "code",
   "execution_count": 36,
   "id": "aad4cd1e",
   "metadata": {},
   "outputs": [
    {
     "data": {
      "text/html": [
       "<div>\n",
       "<style scoped>\n",
       "    .dataframe tbody tr th:only-of-type {\n",
       "        vertical-align: middle;\n",
       "    }\n",
       "\n",
       "    .dataframe tbody tr th {\n",
       "        vertical-align: top;\n",
       "    }\n",
       "\n",
       "    .dataframe thead th {\n",
       "        text-align: right;\n",
       "    }\n",
       "</style>\n",
       "<table border=\"1\" class=\"dataframe\">\n",
       "  <thead>\n",
       "    <tr style=\"text-align: right;\">\n",
       "      <th></th>\n",
       "      <th>UC(X)</th>\n",
       "      <th>GT</th>\n",
       "      <th>has_url</th>\n",
       "      <th>lang</th>\n",
       "    </tr>\n",
       "  </thead>\n",
       "  <tbody>\n",
       "    <tr>\n",
       "      <th>0</th>\n",
       "      <td>0.250562</td>\n",
       "      <td>False</td>\n",
       "      <td>no</td>\n",
       "      <td>es</td>\n",
       "    </tr>\n",
       "    <tr>\n",
       "      <th>1</th>\n",
       "      <td>0.168657</td>\n",
       "      <td>False</td>\n",
       "      <td>yes</td>\n",
       "      <td>en</td>\n",
       "    </tr>\n",
       "    <tr>\n",
       "      <th>2</th>\n",
       "      <td>0.128618</td>\n",
       "      <td>False</td>\n",
       "      <td>yes</td>\n",
       "      <td>es</td>\n",
       "    </tr>\n",
       "    <tr>\n",
       "      <th>4</th>\n",
       "      <td>0.703954</td>\n",
       "      <td>False</td>\n",
       "      <td>yes</td>\n",
       "      <td>es</td>\n",
       "    </tr>\n",
       "    <tr>\n",
       "      <th>6</th>\n",
       "      <td>0.563856</td>\n",
       "      <td>False</td>\n",
       "      <td>yes</td>\n",
       "      <td>es</td>\n",
       "    </tr>\n",
       "    <tr>\n",
       "      <th>...</th>\n",
       "      <td>...</td>\n",
       "      <td>...</td>\n",
       "      <td>...</td>\n",
       "      <td>...</td>\n",
       "    </tr>\n",
       "    <tr>\n",
       "      <th>995</th>\n",
       "      <td>0.709914</td>\n",
       "      <td>True</td>\n",
       "      <td>no</td>\n",
       "      <td>es</td>\n",
       "    </tr>\n",
       "    <tr>\n",
       "      <th>996</th>\n",
       "      <td>0.321230</td>\n",
       "      <td>False</td>\n",
       "      <td>no</td>\n",
       "      <td>en</td>\n",
       "    </tr>\n",
       "    <tr>\n",
       "      <th>997</th>\n",
       "      <td>0.252091</td>\n",
       "      <td>False</td>\n",
       "      <td>no</td>\n",
       "      <td>es</td>\n",
       "    </tr>\n",
       "    <tr>\n",
       "      <th>998</th>\n",
       "      <td>0.250613</td>\n",
       "      <td>False</td>\n",
       "      <td>yes</td>\n",
       "      <td>en</td>\n",
       "    </tr>\n",
       "    <tr>\n",
       "      <th>999</th>\n",
       "      <td>0.194596</td>\n",
       "      <td>False</td>\n",
       "      <td>yes</td>\n",
       "      <td>es</td>\n",
       "    </tr>\n",
       "  </tbody>\n",
       "</table>\n",
       "<p>803 rows × 4 columns</p>\n",
       "</div>"
      ],
      "text/plain": [
       "        UC(X)     GT has_url lang\n",
       "0    0.250562  False      no   es\n",
       "1    0.168657  False     yes   en\n",
       "2    0.128618  False     yes   es\n",
       "4    0.703954  False     yes   es\n",
       "6    0.563856  False     yes   es\n",
       "..        ...    ...     ...  ...\n",
       "995  0.709914   True      no   es\n",
       "996  0.321230  False      no   en\n",
       "997  0.252091  False      no   es\n",
       "998  0.250613  False     yes   en\n",
       "999  0.194596  False     yes   es\n",
       "\n",
       "[803 rows x 4 columns]"
      ]
     },
     "execution_count": 36,
     "metadata": {},
     "output_type": "execute_result"
    }
   ],
   "source": [
    "labeled_sample"
   ]
  },
  {
   "cell_type": "markdown",
   "id": "cb00922f",
   "metadata": {},
   "source": [
    "## 3.1 Learn the optimal threshold by F1"
   ]
  },
  {
   "cell_type": "code",
   "execution_count": 37,
   "id": "9d5386fd",
   "metadata": {},
   "outputs": [],
   "source": [
    "from sklearn.metrics import roc_auc_score, f1_score"
   ]
  },
  {
   "cell_type": "code",
   "execution_count": 38,
   "id": "7fe93847",
   "metadata": {},
   "outputs": [
    {
     "data": {
      "text/plain": [
       "array([False, False, False, False, False,  True, False, False,  True,\n",
       "        True, False, False, False, False, False, False, False, False,\n",
       "       False, False, False, False, False, False,  True, False, False,\n",
       "       False, False, False, False, False, False, False, False, False,\n",
       "        True,  True,  True, False, False,  True,  True, False,  True,\n",
       "       False,  True, False, False, False, False, False, False, False,\n",
       "       False, False, False, False, False, False, False, False, False,\n",
       "       False, False, False,  True, False, False, False, False, False,\n",
       "       False, False, False, False, False, False, False,  True, False,\n",
       "        True, False, False, False, False, False, False, False, False,\n",
       "       False, False, False,  True, False, False, False, False, False,\n",
       "       False,  True,  True, False, False, False, False, False, False,\n",
       "       False, False, False, False,  True, False, False, False, False,\n",
       "       False, False, False, False, False, False, False, False, False,\n",
       "       False, False,  True, False, False, False, False, False,  True,\n",
       "       False,  True, False, False,  True,  True,  True,  True, False,\n",
       "       False, False,  True, False, False, False,  True, False, False,\n",
       "       False, False,  True, False, False,  True, False,  True, False,\n",
       "       False, False,  True, False, False, False, False, False, False,\n",
       "        True, False, False, False,  True, False, False, False, False,\n",
       "        True, False, False, False, False, False, False, False, False,\n",
       "       False,  True,  True,  True, False,  True, False, False, False,\n",
       "        True, False,  True, False, False, False, False, False, False,\n",
       "       False, False,  True, False, False, False, False,  True, False,\n",
       "       False, False, False,  True, False,  True, False, False,  True,\n",
       "       False, False, False, False,  True, False, False, False, False,\n",
       "       False,  True, False, False,  True, False, False,  True, False,\n",
       "       False,  True, False, False, False, False, False, False,  True,\n",
       "       False, False, False,  True,  True, False, False, False, False,\n",
       "       False, False, False, False, False,  True, False, False, False,\n",
       "       False, False, False,  True, False, False, False, False,  True,\n",
       "       False, False, False,  True, False,  True, False, False, False,\n",
       "       False, False,  True, False, False, False, False, False,  True,\n",
       "        True, False, False, False, False, False, False,  True, False,\n",
       "        True, False, False, False, False, False, False,  True, False,\n",
       "        True, False, False,  True, False, False, False, False, False,\n",
       "        True, False, False, False,  True, False, False, False, False,\n",
       "        True, False, False, False, False,  True, False, False,  True,\n",
       "       False, False, False, False, False, False, False, False, False,\n",
       "       False, False, False, False, False, False, False,  True, False,\n",
       "       False, False, False, False, False,  True, False,  True, False,\n",
       "       False, False, False, False, False, False, False, False, False,\n",
       "       False, False, False, False, False, False,  True, False, False,\n",
       "       False, False,  True,  True, False, False, False, False, False,\n",
       "       False, False, False,  True, False,  True, False, False, False,\n",
       "       False, False, False, False, False,  True, False, False, False,\n",
       "       False,  True,  True, False, False, False,  True, False, False,\n",
       "       False, False, False, False, False, False, False, False, False,\n",
       "        True, False, False, False, False, False, False,  True, False,\n",
       "       False, False, False, False, False,  True, False, False, False,\n",
       "       False, False, False, False,  True, False,  True,  True,  True,\n",
       "        True, False, False, False, False,  True, False, False,  True,\n",
       "       False, False, False, False, False,  True, False, False, False,\n",
       "       False, False, False, False, False, False, False, False, False,\n",
       "       False, False, False,  True, False, False, False, False, False,\n",
       "       False, False, False, False, False, False, False,  True,  True,\n",
       "       False, False, False, False, False,  True, False, False,  True,\n",
       "       False, False, False, False, False,  True, False, False, False,\n",
       "       False, False, False,  True, False, False, False, False, False,\n",
       "       False, False, False, False, False, False, False, False,  True,\n",
       "        True,  True, False, False, False, False, False, False,  True,\n",
       "       False, False, False, False, False,  True, False,  True, False,\n",
       "       False,  True, False, False, False, False, False, False, False,\n",
       "       False, False, False, False, False, False, False, False, False,\n",
       "       False, False, False, False, False, False,  True, False, False,\n",
       "       False, False, False, False, False,  True,  True,  True, False,\n",
       "       False, False, False,  True, False, False, False, False, False,\n",
       "       False, False,  True,  True,  True, False, False, False, False,\n",
       "       False, False, False, False, False,  True, False, False,  True,\n",
       "        True, False, False,  True, False, False, False, False, False,\n",
       "       False,  True, False,  True,  True, False, False, False, False,\n",
       "       False, False,  True, False, False, False, False,  True, False,\n",
       "       False, False, False, False, False,  True, False, False, False,\n",
       "       False, False, False, False, False, False, False, False, False,\n",
       "       False, False, False, False, False, False,  True, False, False,\n",
       "       False, False, False, False, False,  True, False, False,  True,\n",
       "       False, False, False,  True, False, False, False, False,  True,\n",
       "        True, False, False, False,  True,  True,  True, False, False,\n",
       "        True, False, False,  True, False, False, False, False,  True,\n",
       "       False, False, False, False,  True, False, False, False, False,\n",
       "        True,  True, False, False,  True, False,  True, False, False,\n",
       "       False, False, False, False, False, False, False,  True, False,\n",
       "       False, False, False, False, False, False, False,  True,  True,\n",
       "       False, False, False, False, False, False, False, False,  True,\n",
       "        True,  True,  True, False, False, False, False, False,  True,\n",
       "       False, False, False, False, False, False, False, False,  True,\n",
       "       False, False, False, False, False, False, False, False,  True,\n",
       "       False, False, False, False,  True, False, False, False,  True,\n",
       "       False, False,  True, False,  True, False,  True, False, False,\n",
       "       False, False])"
      ]
     },
     "execution_count": 38,
     "metadata": {},
     "output_type": "execute_result"
    }
   ],
   "source": [
    "labeled_sample['GT'].values"
   ]
  },
  {
   "cell_type": "code",
   "execution_count": 39,
   "id": "f63418ca",
   "metadata": {},
   "outputs": [
    {
     "data": {
      "text/plain": [
       "array([0.25056205, 0.16865656, 0.12861776, 0.70395397, 0.56385614,\n",
       "       0.75544472, 0.92179351, 0.19390576, 0.13024025, 0.8837996 ,\n",
       "       0.38201399, 0.4476218 , 0.15308331, 0.00997971, 0.32427117,\n",
       "       0.27701838, 0.20116463, 0.15919097, 0.18791631, 0.15420922,\n",
       "       0.37053547, 0.78208915, 0.47030147, 0.06322229, 0.93534354,\n",
       "       0.57365244, 0.39207396, 0.16536846, 0.4774663 , 0.22749186,\n",
       "       0.60128288, 0.26554836, 0.15243706, 0.17631596, 0.51198342,\n",
       "       0.10397675, 0.81199136, 0.89688424, 0.37370271, 0.40390259,\n",
       "       0.38342302, 0.91907623, 0.94032136, 0.31844329, 0.95331076,\n",
       "       0.42924117, 0.86497948, 0.28516804, 0.33842164, 0.34918594,\n",
       "       0.42032215, 0.77955797, 0.35552597, 0.48590564, 0.11014363,\n",
       "       0.48534223, 0.37467038, 0.26315199, 0.44391748, 0.79506019,\n",
       "       0.46004977, 0.61953098, 0.45106491, 0.10266455, 0.27189644,\n",
       "       0.30367486, 0.95032077, 0.54531519, 0.29053714, 0.31604879,\n",
       "       0.12659894, 0.25942504, 0.18223437, 0.31614064, 0.5374658 ,\n",
       "       0.26329602, 0.3797695 , 0.26461641, 0.17611417, 0.53510911,\n",
       "       0.39823434, 0.88143569, 0.84906935, 0.3888237 , 0.24499487,\n",
       "       0.1591721 , 0.3005653 , 0.41770016, 0.26619106, 0.13071083,\n",
       "       0.14965404, 0.22433184, 0.39192226, 0.76981188, 0.23495755,\n",
       "       0.38110983, 0.28271583, 0.10295743, 0.30377648, 0.23588035,\n",
       "       0.92541109, 0.86646778, 0.55762737, 0.36603063, 0.25426676,\n",
       "       0.04767822, 0.14136228, 0.16735925, 0.0759706 , 0.05918581,\n",
       "       0.20066539, 0.94525002, 0.86102807, 0.77579513, 0.15188619,\n",
       "       0.13078457, 0.32685068, 0.18630087, 0.43479473, 0.47658728,\n",
       "       0.33840833, 0.64605848, 0.05379208, 0.46184057, 0.59442264,\n",
       "       0.25763707, 0.50437961, 0.25577214, 0.82865511, 0.57101174,\n",
       "       0.46068407, 0.19748302, 0.19105008, 0.21372026, 0.4641687 ,\n",
       "       0.36876025, 0.81023825, 0.22443366, 0.14470239, 0.90235291,\n",
       "       0.82345448, 0.80747001, 0.94818884, 0.26604558, 0.08853025,\n",
       "       0.2119971 , 0.90327369, 0.29919968, 0.32570456, 0.04261328,\n",
       "       0.73986805, 0.43983754, 0.7181832 , 0.24520148, 0.1099213 ,\n",
       "       0.62399168, 0.24751708, 0.09193266, 0.98468426, 0.12414788,\n",
       "       0.72842895, 0.32277343, 0.44548217, 0.09436285, 0.90855637,\n",
       "       0.813973  , 0.15969486, 0.45293917, 0.44723169, 0.82975249,\n",
       "       0.19735061, 0.88159257, 0.29600364, 0.48814542, 0.37137551,\n",
       "       0.78532373, 0.11443131, 0.38790388, 0.24408319, 0.11333291,\n",
       "       0.89598956, 0.61043227, 0.39690288, 0.11217689, 0.38249063,\n",
       "       0.18422519, 0.19190473, 0.24181841, 0.15392884, 0.08126863,\n",
       "       0.66135074, 0.00698816, 0.90109616, 0.3985793 , 0.90112816,\n",
       "       0.50816977, 0.5164079 , 0.23563453, 0.68817493, 0.74701064,\n",
       "       0.94660464, 0.28325913, 0.31664542, 0.18358667, 0.43535262,\n",
       "       0.43784868, 0.28242113, 0.25959013, 0.15245897, 0.92057053,\n",
       "       0.38630329, 0.08911568, 0.45233386, 0.06934967, 0.92610337,\n",
       "       0.03938918, 0.05555143, 0.23274101, 0.24350232, 0.80249279,\n",
       "       0.18759182, 0.74223955, 0.51553595, 0.2151502 , 0.94932349,\n",
       "       0.277254  , 0.332677  , 0.27064088, 0.32472627, 0.8234938 ,\n",
       "       0.20801125, 0.50863742, 0.32740906, 0.13918424, 0.04298585,\n",
       "       0.61000726, 0.28571371, 0.51229906, 0.79532794, 0.14857303,\n",
       "       0.2024601 , 0.89932042, 0.11398411, 0.50547001, 0.71911494,\n",
       "       0.03357543, 0.03905954, 0.25306212, 0.34098977, 0.20136277,\n",
       "       0.28156672, 0.93614205, 0.19631904, 0.41939662, 0.31330027,\n",
       "       0.67919465, 0.45191657, 0.06458026, 0.37835711, 0.26487124,\n",
       "       0.10930001, 0.08655097, 0.08509931, 0.31070991, 0.10198317,\n",
       "       0.59946515, 0.58225887, 0.51113668, 0.13766841, 0.34669647,\n",
       "       0.52742944, 0.43229978, 0.53409798, 0.91666033, 0.06799178,\n",
       "       0.15413975, 0.31967495, 0.05310531, 0.29759899, 0.5085481 ,\n",
       "       0.14170635, 0.22458107, 0.92955302, 0.17560924, 0.92969616,\n",
       "       0.02572779, 0.24042346, 0.2848725 , 0.59728249, 0.45844563,\n",
       "       0.82369181, 0.49397393, 0.30630431, 0.27404168, 0.0665647 ,\n",
       "       0.28434128, 0.84293901, 0.42495805, 0.16111623, 0.42528912,\n",
       "       0.44573758, 0.80455839, 0.30809193, 0.42605547, 0.94590319,\n",
       "       0.3281576 , 0.61127782, 0.19644311, 0.53220146, 0.46226449,\n",
       "       0.15893394, 0.28882306, 0.44715062, 0.43920913, 0.05876451,\n",
       "       0.7627376 , 0.57104115, 0.19031393, 0.98914967, 0.73597965,\n",
       "       0.48121882, 0.37181491, 0.80218103, 0.12689233, 0.94211854,\n",
       "       0.04948373, 0.23480391, 0.00531219, 0.94056016, 0.1705822 ,\n",
       "       0.07913835, 0.04842457, 0.14825478, 0.85579804, 0.23087468,\n",
       "       0.89693055, 0.23078336, 0.22794845, 0.73759027, 0.12450525,\n",
       "       0.29451356, 0.92061034, 0.45217603, 0.2072465 , 0.16052704,\n",
       "       0.38159072, 0.14133518, 0.11265317, 0.83282023, 0.08257422,\n",
       "       0.31478168, 0.34028517, 0.63156972, 0.78689025, 0.44781704,\n",
       "       0.09079763, 0.18306337, 0.16251924, 0.75924481, 0.13623049,\n",
       "       0.38190605, 0.06424302, 0.15970125, 0.42686917, 0.24411757,\n",
       "       0.7076412 , 0.2571913 , 0.82234522, 0.23516379, 0.10962805,\n",
       "       0.25024184, 0.23637781, 0.07144166, 0.17513672, 0.54984338,\n",
       "       0.56436335, 0.24997872, 0.30479401, 0.4886694 , 0.27018942,\n",
       "       0.31090495, 0.18778902, 0.65351945, 0.30460355, 0.8459041 ,\n",
       "       0.11797035, 0.45445106, 0.16082778, 0.25945588, 0.80816987,\n",
       "       0.93224008, 0.26271573, 0.37790476, 0.21278736, 0.2385832 ,\n",
       "       0.15979958, 0.62935502, 0.30645914, 0.02594176, 0.8192885 ,\n",
       "       0.41872007, 0.86059307, 0.52694644, 0.83317331, 0.34764533,\n",
       "       0.17257798, 0.17286714, 0.47412747, 0.21889507, 0.51100021,\n",
       "       0.66743237, 0.50985469, 0.05364202, 0.38745151, 0.21773451,\n",
       "       0.9087119 , 0.70425991, 0.15402583, 0.33579143, 0.30943686,\n",
       "       0.91930943, 0.23524535, 0.69634938, 0.34431206, 0.28483374,\n",
       "       0.01203552, 0.40108598, 0.10360469, 0.47260341, 0.33135753,\n",
       "       0.27006143, 0.63556536, 0.08488522, 0.23361729, 0.71063808,\n",
       "       0.36373905, 0.19346076, 0.27488089, 0.14151095, 0.88118647,\n",
       "       0.15519059, 0.41317151, 0.04584102, 0.14659037, 0.3521022 ,\n",
       "       0.06456911, 0.78544861, 0.58589948, 0.23946811, 0.35017673,\n",
       "       0.12038738, 0.06245968, 0.16191518, 0.52744721, 0.7262551 ,\n",
       "       0.17087259, 0.29263837, 0.79485324, 0.87718131, 0.67343815,\n",
       "       0.27104756, 0.28035654, 0.75621275, 0.59998412, 0.75022821,\n",
       "       0.24423834, 0.2042045 , 0.95433807, 0.23932623, 0.49805806,\n",
       "       0.46279569, 0.61344385, 0.03388262, 0.82182891, 0.09611751,\n",
       "       0.30811437, 0.03251452, 0.39716596, 0.15929036, 0.29189927,\n",
       "       0.38558818, 0.09196123, 0.34926024, 0.42944791, 0.01274435,\n",
       "       0.17277797, 0.60186078, 0.47601657, 0.14251245, 0.98990667,\n",
       "       0.49326057, 0.18064934, 0.25883507, 0.33939173, 0.71479909,\n",
       "       0.06878155, 0.19403742, 0.10878568, 0.40101838, 0.13709099,\n",
       "       0.09771132, 0.29878683, 0.93687194, 0.57276808, 0.24788432,\n",
       "       0.37402817, 0.18958296, 0.28695798, 0.09792085, 0.88140709,\n",
       "       0.27073171, 0.06968421, 0.93899979, 0.13734005, 0.09678462,\n",
       "       0.0500457 , 0.40861441, 0.22547923, 0.75024194, 0.21111342,\n",
       "       0.31327165, 0.36236425, 0.30347489, 0.39205678, 0.14133143,\n",
       "       0.64725696, 0.28390944, 0.09606406, 0.48433184, 0.14351498,\n",
       "       0.40487406, 0.27450952, 0.08093479, 0.32631632, 0.41158529,\n",
       "       0.45052059, 0.50318534, 0.33052271, 0.40672117, 0.77619203,\n",
       "       0.20739001, 0.61904405, 0.21927246, 0.14620953, 0.15368057,\n",
       "       0.18957677, 0.32257763, 0.08221465, 0.67088483, 0.44701877,\n",
       "       0.88152741, 0.34962032, 0.13008085, 0.14859865, 0.86757818,\n",
       "       0.26384702, 0.66987749, 0.48615841, 0.04544803, 0.88669838,\n",
       "       0.29284822, 0.16651393, 0.36964085, 0.58457079, 0.24131161,\n",
       "       0.53654361, 0.27541224, 0.06575711, 0.12767698, 0.44788872,\n",
       "       0.59698294, 0.06578768, 0.57019891, 0.27843623, 0.36939791,\n",
       "       0.45527889, 0.08285065, 0.1833659 , 0.05853281, 0.07954945,\n",
       "       0.25738658, 0.52287626, 0.6907218 , 0.16172966, 0.23458447,\n",
       "       0.29391602, 0.13586879, 0.56375213, 0.28730316, 0.20556604,\n",
       "       0.74183358, 0.86957082, 0.74072696, 0.21282395, 0.21900554,\n",
       "       0.25125789, 0.36537619, 0.88943025, 0.28470398, 0.29316313,\n",
       "       0.30601066, 0.24930113, 0.23691507, 0.2967482 , 0.39034987,\n",
       "       0.78241082, 0.88583608, 0.82480642, 0.11158328, 0.37595227,\n",
       "       0.37669303, 0.43429225, 0.32635167, 0.26002669, 0.18643682,\n",
       "       0.3417674 , 0.3725279 , 0.05383753, 0.41477113, 0.38846642,\n",
       "       0.8486713 , 0.98347531, 0.19734281, 0.39446325, 0.86623533,\n",
       "       0.35800678, 0.30990328, 0.34583925, 0.23977443, 0.11378443,\n",
       "       0.23377168, 0.89509018, 0.22605091, 0.22996535, 0.35573963,\n",
       "       0.33749896, 0.20279543, 0.18136581, 0.09693272, 0.9931677 ,\n",
       "       0.43666369, 0.82754905, 0.27871136, 0.06090448, 0.44343467,\n",
       "       0.385459  , 0.81268482, 0.31710303, 0.35618045, 0.21404934,\n",
       "       0.11226272, 0.51336864, 0.14060221, 0.55279697, 0.23526266,\n",
       "       0.1140644 , 0.0649722 , 0.2388094 , 0.23656708, 0.70034672,\n",
       "       0.22981868, 0.22678561, 0.15951473, 0.3621423 , 0.44688445,\n",
       "       0.19559978, 0.27242819, 0.7252173 , 0.51609277, 0.1795026 ,\n",
       "       0.20512616, 0.5808715 , 0.73765872, 0.91615706, 0.49700695,\n",
       "       0.44827112, 0.18298399, 0.18842339, 0.37368164, 0.39719321,\n",
       "       0.68583467, 0.18204495, 0.36644918, 0.71963372, 0.12485113,\n",
       "       0.29383923, 0.11352364, 0.91021969, 0.37786021, 0.07761577,\n",
       "       0.87890796, 0.17648849, 0.91454832, 0.93165774, 0.41908603,\n",
       "       0.09798258, 0.05900035, 0.95495166, 0.86602354, 0.91070003,\n",
       "       0.2383131 , 0.32591331, 0.97436741, 0.27564039, 0.23885133,\n",
       "       0.90012315, 0.388389  , 0.0809054 , 0.14555514, 0.61672131,\n",
       "       0.70712305, 0.25030664, 0.13117328, 0.36174643, 0.5081989 ,\n",
       "       0.82932113, 0.73817169, 0.22483129, 0.04823908, 0.10119732,\n",
       "       0.85965908, 0.97237957, 0.59011743, 0.26653968, 0.80497334,\n",
       "       0.23439633, 0.80114739, 0.39690739, 0.18304196, 0.04531398,\n",
       "       0.21024382, 0.17995467, 0.34661638, 0.15473631, 0.29320358,\n",
       "       0.14339728, 0.92528498, 0.28076117, 0.10002037, 0.38136481,\n",
       "       0.14327995, 0.24002679, 0.47605554, 0.22619848, 0.22175738,\n",
       "       0.84161229, 0.91413663, 0.25710549, 0.41878312, 0.53892443,\n",
       "       0.04550996, 0.15397716, 0.25353421, 0.30663317, 0.08614347,\n",
       "       0.8431179 , 0.67463895, 0.53853216, 0.88398644, 0.37701657,\n",
       "       0.3063996 , 0.11436853, 0.21180403, 0.10083621, 0.77144765,\n",
       "       0.37895525, 0.27356655, 0.17661219, 0.48876356, 0.80436256,\n",
       "       0.22725713, 0.76359528, 0.52968373, 0.87118259, 0.23883344,\n",
       "       0.31142289, 0.25536604, 0.83159307, 0.27998202, 0.27627799,\n",
       "       0.3346796 , 0.09320636, 0.3688817 , 0.75567102, 0.3212081 ,\n",
       "       0.04374039, 0.22546533, 0.96490522, 0.20045455, 0.94270181,\n",
       "       0.09895249, 0.82769282, 0.07836043, 0.31790364, 0.8088022 ,\n",
       "       0.07946383, 0.9003967 , 0.19671333, 0.70991445, 0.3212299 ,\n",
       "       0.25209052, 0.25061316, 0.19459605])"
      ]
     },
     "execution_count": 39,
     "metadata": {},
     "output_type": "execute_result"
    }
   ],
   "source": [
    "labeled_sample['UC(X)'].values"
   ]
  },
  {
   "cell_type": "code",
   "execution_count": 40,
   "id": "fad0361e",
   "metadata": {},
   "outputs": [
    {
     "data": {
      "text/plain": [
       "0.9305661858502601"
      ]
     },
     "execution_count": 40,
     "metadata": {},
     "output_type": "execute_result"
    }
   ],
   "source": [
    "roc_auc_score(labeled_sample['GT'].values, labeled_sample['UC(X)'].values)"
   ]
  },
  {
   "cell_type": "code",
   "execution_count": 41,
   "id": "009cf839",
   "metadata": {},
   "outputs": [
    {
     "data": {
      "text/plain": [
       "array([False, False, False,  True,  True,  True,  True, False, False,\n",
       "        True,  True,  True, False, False,  True, False, False, False,\n",
       "       False, False,  True,  True,  True, False,  True,  True,  True,\n",
       "       False,  True, False,  True, False, False, False,  True, False,\n",
       "        True,  True,  True,  True,  True,  True,  True,  True,  True,\n",
       "        True,  True, False,  True,  True,  True,  True,  True,  True,\n",
       "       False,  True,  True, False,  True,  True,  True,  True,  True,\n",
       "       False, False,  True,  True,  True, False,  True, False, False,\n",
       "       False,  True,  True, False,  True, False, False,  True,  True,\n",
       "        True,  True,  True, False, False,  True,  True, False, False,\n",
       "       False, False,  True,  True, False,  True, False, False,  True,\n",
       "       False,  True,  True,  True,  True, False, False, False, False,\n",
       "       False, False, False,  True,  True,  True, False, False,  True,\n",
       "       False,  True,  True,  True,  True, False,  True,  True, False,\n",
       "        True, False,  True,  True,  True, False, False, False,  True,\n",
       "        True,  True, False, False,  True,  True,  True,  True, False,\n",
       "       False, False,  True, False,  True, False,  True,  True,  True,\n",
       "       False, False,  True, False, False,  True, False,  True,  True,\n",
       "        True, False,  True,  True, False,  True,  True,  True, False,\n",
       "        True, False,  True,  True,  True, False,  True, False, False,\n",
       "        True,  True,  True, False,  True, False, False, False, False,\n",
       "       False,  True, False,  True,  True,  True,  True,  True, False,\n",
       "        True,  True,  True, False,  True, False,  True,  True, False,\n",
       "       False, False,  True,  True, False,  True, False,  True, False,\n",
       "       False, False, False,  True, False,  True,  True, False,  True,\n",
       "       False,  True, False,  True,  True, False,  True,  True, False,\n",
       "       False,  True, False,  True,  True, False, False,  True, False,\n",
       "        True,  True, False, False, False,  True, False, False,  True,\n",
       "       False,  True,  True,  True,  True, False,  True, False, False,\n",
       "       False, False,  True, False,  True,  True,  True, False,  True,\n",
       "        True,  True,  True,  True, False, False,  True, False, False,\n",
       "        True, False, False,  True, False,  True, False, False, False,\n",
       "        True,  True,  True,  True,  True, False, False, False,  True,\n",
       "        True, False,  True,  True,  True,  True,  True,  True,  True,\n",
       "        True, False,  True,  True, False, False,  True,  True, False,\n",
       "        True,  True, False,  True,  True,  True,  True,  True, False,\n",
       "        True, False, False, False,  True, False, False, False, False,\n",
       "        True, False,  True, False, False,  True, False, False,  True,\n",
       "        True, False, False,  True, False, False,  True, False,  True,\n",
       "        True,  True,  True,  True, False, False, False,  True, False,\n",
       "        True, False, False,  True, False,  True, False,  True, False,\n",
       "       False, False, False, False, False,  True,  True, False,  True,\n",
       "        True, False,  True, False,  True,  True,  True, False,  True,\n",
       "       False, False,  True,  True, False,  True, False, False, False,\n",
       "        True,  True, False,  True,  True,  True,  True,  True,  True,\n",
       "       False, False,  True, False,  True,  True,  True, False,  True,\n",
       "       False,  True,  True, False,  True,  True,  True, False,  True,\n",
       "        True, False, False,  True, False,  True,  True, False,  True,\n",
       "       False, False,  True,  True, False, False, False,  True, False,\n",
       "        True, False, False,  True, False,  True,  True, False,  True,\n",
       "       False, False, False,  True,  True, False, False,  True,  True,\n",
       "        True, False, False,  True,  True,  True, False, False,  True,\n",
       "       False,  True,  True,  True, False,  True, False,  True, False,\n",
       "        True, False, False,  True, False,  True,  True, False, False,\n",
       "        True,  True, False,  True,  True, False, False,  True,  True,\n",
       "       False, False, False,  True, False, False, False,  True,  True,\n",
       "       False,  True, False, False, False,  True, False, False,  True,\n",
       "       False, False, False,  True, False,  True, False,  True,  True,\n",
       "        True,  True, False,  True, False, False,  True, False,  True,\n",
       "       False, False,  True,  True,  True,  True,  True,  True,  True,\n",
       "       False,  True, False, False, False, False,  True, False,  True,\n",
       "        True,  True,  True, False, False,  True, False,  True,  True,\n",
       "       False,  True, False, False,  True,  True, False,  True, False,\n",
       "       False, False,  True,  True, False,  True, False,  True,  True,\n",
       "       False, False, False, False, False,  True,  True, False, False,\n",
       "       False, False,  True, False, False,  True,  True,  True, False,\n",
       "       False, False,  True,  True, False, False,  True, False, False,\n",
       "       False,  True,  True,  True,  True, False,  True,  True,  True,\n",
       "        True, False, False,  True,  True, False,  True,  True,  True,\n",
       "        True, False,  True,  True,  True,  True,  True, False, False,\n",
       "       False,  True, False, False,  True,  True, False, False, False,\n",
       "        True,  True,  True, False, False,  True,  True,  True,  True,\n",
       "        True, False, False,  True, False,  True, False, False, False,\n",
       "       False, False,  True, False, False, False,  True,  True, False,\n",
       "       False,  True,  True, False, False,  True,  True,  True,  True,\n",
       "        True, False, False,  True,  True,  True, False,  True,  True,\n",
       "       False, False, False,  True,  True, False,  True, False,  True,\n",
       "        True,  True, False, False,  True,  True,  True, False,  True,\n",
       "        True, False, False,  True,  True, False, False,  True,  True,\n",
       "       False, False,  True,  True,  True,  True, False, False, False,\n",
       "        True,  True,  True, False,  True, False,  True,  True, False,\n",
       "       False, False, False,  True, False, False, False,  True, False,\n",
       "       False,  True, False, False,  True, False, False,  True,  True,\n",
       "       False,  True,  True, False, False, False,  True, False,  True,\n",
       "        True,  True,  True,  True,  True, False, False, False,  True,\n",
       "        True, False, False,  True,  True, False,  True,  True,  True,\n",
       "       False,  True, False,  True, False, False,  True, False,  True,\n",
       "        True,  True, False, False,  True, False,  True, False,  True,\n",
       "       False,  True,  True, False,  True, False,  True,  True, False,\n",
       "       False, False])"
      ]
     },
     "execution_count": 41,
     "metadata": {},
     "output_type": "execute_result"
    }
   ],
   "source": [
    "labeled_sample['UC(X)'].map(lambda x: True if x > 0.3 else False).values"
   ]
  },
  {
   "cell_type": "code",
   "execution_count": 42,
   "id": "8b416df9",
   "metadata": {},
   "outputs": [
    {
     "data": {
      "text/plain": [
       "(0.66, 0.8159509202453988)"
      ]
     },
     "execution_count": 42,
     "metadata": {},
     "output_type": "execute_result"
    }
   ],
   "source": [
    "best_threshold = 0\n",
    "best_f1 = 0\n",
    "\n",
    "for thres in np.linspace(0, 1, 101):\n",
    "    f1 = f1_score(labeled_sample['GT'].values,\n",
    "             labeled_sample['UC(X)'].map(lambda x: True if x >= thres else False).values)\n",
    "    if f1 > best_f1:\n",
    "        best_f1 = f1\n",
    "        best_threshold = thres\n",
    "\n",
    "best_threshold, best_f1"
   ]
  },
  {
   "cell_type": "markdown",
   "id": "c91c7b7e",
   "metadata": {},
   "source": [
    "## with the best threshold"
   ]
  },
  {
   "cell_type": "code",
   "execution_count": 43,
   "id": "542a463e",
   "metadata": {},
   "outputs": [
    {
     "data": {
      "text/plain": [
       "0.213"
      ]
     },
     "execution_count": 43,
     "metadata": {},
     "output_type": "execute_result"
    }
   ],
   "source": [
    "est_p_cc = base_dh.observed_df[base_dh.observed_df['UC(X)'] >= best_threshold].shape[0] / base_dh.size\n",
    "est_p_cc"
   ]
  },
  {
   "cell_type": "markdown",
   "id": "6b67b100",
   "metadata": {},
   "source": [
    "## 3.2 learn a platt scaling function"
   ]
  },
  {
   "cell_type": "code",
   "execution_count": 44,
   "id": "2cd22975",
   "metadata": {},
   "outputs": [
    {
     "data": {
      "text/plain": [
       "(array([ 87., 135., 153., 119.,  75.,  48.,  29.,  44.,  57.,  56.]),\n",
       " array([0.00531219, 0.10409774, 0.20288329, 0.30166884, 0.40045439,\n",
       "        0.49923994, 0.5980255 , 0.69681105, 0.7955966 , 0.89438215,\n",
       "        0.9931677 ]),\n",
       " <BarContainer object of 10 artists>)"
      ]
     },
     "execution_count": 44,
     "metadata": {},
     "output_type": "execute_result"
    },
    {
     "data": {
      "image/png": "[encoded data removed]",
      "text/plain": [
       "<Figure size 432x288 with 1 Axes>"
      ]
     },
     "metadata": {
      "needs_background": "light"
     },
     "output_type": "display_data"
    }
   ],
   "source": [
    "plt.hist(labeled_sample['UC(X)'].values)"
   ]
  },
  {
   "cell_type": "code",
   "execution_count": 45,
   "id": "713ef175",
   "metadata": {},
   "outputs": [],
   "source": [
    "from sklearn.linear_model import LogisticRegression"
   ]
  },
  {
   "cell_type": "code",
   "execution_count": 46,
   "id": "fa426d4c",
   "metadata": {},
   "outputs": [],
   "source": [
    "train_UCX = labeled_sample['UC(X)'].values.reshape(-1, 1)\n",
    "train_GT = labeled_sample['GT'].values\n",
    "prob_cali_func = LogisticRegression(fit_intercept=True).fit(train_UCX, train_GT)"
   ]
  },
  {
   "cell_type": "code",
   "execution_count": 47,
   "id": "e27d87e3",
   "metadata": {},
   "outputs": [
    {
     "data": {
      "text/plain": [
       "[<matplotlib.lines.Line2D at 0x7f9d30aab820>]"
      ]
     },
     "execution_count": 47,
     "metadata": {},
     "output_type": "execute_result"
    },
    {
     "data": {
      "image/png": "[encoded data removed]",
      "text/plain": [
       "<Figure size 432x288 with 1 Axes>"
      ]
     },
     "metadata": {
      "needs_background": "light"
     },
     "output_type": "display_data"
    }
   ],
   "source": [
    "empir_cx_axis = np.linspace(0, 1, 101)\n",
    "prob_cali_curve = prob_cali_func.predict_proba(empir_cx_axis.reshape(-1, 1))[:, -1]\n",
    "\n",
    "plt.plot(empir_cx_axis, prob_cali_curve)"
   ]
  },
  {
   "cell_type": "code",
   "execution_count": 48,
   "id": "30dc40c0",
   "metadata": {},
   "outputs": [],
   "source": [
    "cali_prob_scores = prob_cali_func.predict_proba(base_dh.observed_df['UC(X)'].values.reshape(-1, 1))[:, -1]"
   ]
  },
  {
   "cell_type": "code",
   "execution_count": 49,
   "id": "493713f9",
   "metadata": {},
   "outputs": [
    {
     "data": {
      "text/plain": [
       "0.19791414573680458"
      ]
     },
     "execution_count": 49,
     "metadata": {},
     "output_type": "execute_result"
    }
   ],
   "source": [
    "cali_prob_scores.sum() / len(cali_prob_scores)"
   ]
  },
  {
   "cell_type": "markdown",
   "id": "554992fc",
   "metadata": {},
   "source": [
    "## 3.3 learn the class-conditional density function"
   ]
  },
  {
   "cell_type": "code",
   "execution_count": 50,
   "id": "1c59c687",
   "metadata": {},
   "outputs": [
    {
     "data": {
      "text/plain": [
       "(array([ 79., 137., 158., 120.,  75.,  50.,  27.,  44.,  62.,  51.]),\n",
       " array([0. , 0.1, 0.2, 0.3, 0.4, 0.5, 0.6, 0.7, 0.8, 0.9, 1. ]),\n",
       " <BarContainer object of 10 artists>)"
      ]
     },
     "execution_count": 50,
     "metadata": {},
     "output_type": "execute_result"
    },
    {
     "data": {
      "image/png": "[encoded data removed]",
      "text/plain": [
       "<Figure size 432x288 with 1 Axes>"
      ]
     },
     "metadata": {
      "needs_background": "light"
     },
     "output_type": "display_data"
    }
   ],
   "source": [
    "plt.hist(labeled_sample['UC(X)'].values, bins=np.linspace(0, 1, 11))"
   ]
  },
  {
   "cell_type": "code",
   "execution_count": 51,
   "id": "8c19fe47",
   "metadata": {},
   "outputs": [
    {
     "data": {
      "image/png": "[encoded data removed]",
      "text/plain": [
       "<Figure size 432x288 with 1 Axes>"
      ]
     },
     "metadata": {
      "needs_background": "light"
     },
     "output_type": "display_data"
    }
   ],
   "source": [
    "obs_freq, _, _ = plt.hist(base_dh.observed_df['UC(X)'].values, bins=np.linspace(0, 1, 11))"
   ]
  },
  {
   "cell_type": "code",
   "execution_count": 52,
   "id": "cb185a70",
   "metadata": {},
   "outputs": [],
   "source": [
    "obs_freq /= obs_freq.sum()"
   ]
  },
  {
   "cell_type": "code",
   "execution_count": 53,
   "id": "cee96200",
   "metadata": {},
   "outputs": [
    {
     "data": {
      "image/png": "[encoded data removed]",
      "text/plain": [
       "<Figure size 432x288 with 1 Axes>"
      ]
     },
     "metadata": {
      "needs_background": "light"
     },
     "output_type": "display_data"
    }
   ],
   "source": [
    "pos_freq, _, _ = plt.hist(labeled_sample[labeled_sample['GT'] == True]['UC(X)'].values, bins=np.linspace(0, 1, 11), alpha=0.5)\n",
    "neg_freq, _, _ = plt.hist(labeled_sample[labeled_sample['GT'] == False]['UC(X)'].values, bins=np.linspace(0, 1, 11), alpha=0.5)"
   ]
  },
  {
   "cell_type": "code",
   "execution_count": 54,
   "id": "304da085",
   "metadata": {},
   "outputs": [],
   "source": [
    "pos_freq /= pos_freq.sum()\n",
    "neg_freq /= neg_freq.sum()"
   ]
  },
  {
   "cell_type": "code",
   "execution_count": 55,
   "id": "9b9d48d7",
   "metadata": {},
   "outputs": [],
   "source": [
    "_SQRT2 = np.sqrt(2)\n",
    "\n",
    "def hellinger(p, q):\n",
    "    return np.sqrt(np.sum((np.sqrt(p) - np.sqrt(q)) ** 2)) / _SQRT2"
   ]
  },
  {
   "cell_type": "code",
   "execution_count": 56,
   "id": "45132d94",
   "metadata": {},
   "outputs": [],
   "source": [
    "min_dist = 100\n",
    "best_p_p = 0\n",
    "\n",
    "for p_p in np.linspace(0, 1, 101):\n",
    "    dist = hellinger(obs_freq, pos_freq * p_p + neg_freq * (1 - p_p))\n",
    "    if dist < min_dist:\n",
    "        min_dist = dist\n",
    "        best_p_p = p_p"
   ]
  },
  {
   "cell_type": "code",
   "execution_count": 57,
   "id": "cda4c7b0",
   "metadata": {},
   "outputs": [
    {
     "data": {
      "text/plain": [
       "(0.2, 0.012184720821147162)"
      ]
     },
     "execution_count": 57,
     "metadata": {},
     "output_type": "execute_result"
    }
   ],
   "source": [
    "best_p_p, min_dist"
   ]
  },
  {
   "cell_type": "markdown",
   "id": "c8ce6e87",
   "metadata": {},
   "source": [
    "# 4. estimate for the target period"
   ]
  },
  {
   "cell_type": "markdown",
   "id": "84538ddc",
   "metadata": {},
   "source": [
    "## 4.1 PCC"
   ]
  },
  {
   "cell_type": "code",
   "execution_count": 58,
   "id": "4dd2aff4",
   "metadata": {},
   "outputs": [],
   "source": [
    "target_cali_prob_scores = prob_cali_func.predict_proba(target_dh.observed_df['UC(X)'].values.reshape(-1, 1))[:, -1]"
   ]
  },
  {
   "cell_type": "code",
   "execution_count": 59,
   "id": "6906557e",
   "metadata": {},
   "outputs": [
    {
     "data": {
      "text/plain": [
       "0.4661644555605497"
      ]
     },
     "execution_count": 59,
     "metadata": {},
     "output_type": "execute_result"
    }
   ],
   "source": [
    "target_cali_prob_scores.sum() / len(target_cali_prob_scores)"
   ]
  },
  {
   "cell_type": "markdown",
   "id": "8c6a249c",
   "metadata": {},
   "source": [
    "## 4.2 MM"
   ]
  },
  {
   "cell_type": "code",
   "execution_count": 60,
   "id": "109f2365",
   "metadata": {},
   "outputs": [
    {
     "data": {
      "image/png": "[encoded data removed]",
      "text/plain": [
       "<Figure size 432x288 with 1 Axes>"
      ]
     },
     "metadata": {
      "needs_background": "light"
     },
     "output_type": "display_data"
    }
   ],
   "source": [
    "target_obs_freq, _, _ = plt.hist(target_dh.observed_df['UC(X)'].values, bins=np.linspace(0, 1, 11))"
   ]
  },
  {
   "cell_type": "code",
   "execution_count": 61,
   "id": "ea3a7639",
   "metadata": {},
   "outputs": [],
   "source": [
    "min_dist = 10000\n",
    "best_p_p = 0\n",
    "\n",
    "for p_p in np.linspace(0, 1, 101):\n",
    "    dist = hellinger(target_obs_freq, pos_freq * p_p + neg_freq * (1 - p_p))\n",
    "    if dist < min_dist:\n",
    "        min_dist = dist\n",
    "        best_p_p = p_p"
   ]
  },
  {
   "cell_type": "code",
   "execution_count": 62,
   "id": "a7ca9c7a",
   "metadata": {},
   "outputs": [
    {
     "data": {
      "text/plain": [
       "(0.73, 70.00424484165809)"
      ]
     },
     "execution_count": 62,
     "metadata": {},
     "output_type": "execute_result"
    }
   ],
   "source": [
    "best_p_p, min_dist"
   ]
  },
  {
   "cell_type": "code",
   "execution_count": null,
   "id": "799f187d",
   "metadata": {},
   "outputs": [],
   "source": []
  }
 ],
 "metadata": {
  "kernelspec": {
   "display_name": "hot",
   "language": "python",
   "name": "hot"
  },
  "language_info": {
   "codemirror_mode": {
    "name": "ipython",
    "version": 3
   },
   "file_extension": ".py",
   "mimetype": "text/x-python",
   "name": "python",
   "nbconvert_exporter": "python",
   "pygments_lexer": "ipython3",
   "version": "3.10.8"
  }
 },
 "nbformat": 4,
 "nbformat_minor": 5
}
